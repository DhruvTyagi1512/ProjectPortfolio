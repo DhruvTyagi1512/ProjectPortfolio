{
 "cells": [
  {
   "cell_type": "markdown",
   "id": "43a1b8a8",
   "metadata": {},
   "source": [
    "# BMI Calculator\n",
    "\n",
    "https://www.nhlbi.nih.gov/health/educational/lose_wt/BMI/bmicalc.htm"
   ]
  },
  {
   "cell_type": "code",
   "execution_count": 3,
   "id": "9c676d8f",
   "metadata": {},
   "outputs": [
    {
     "name": "stdout",
     "output_type": "stream",
     "text": [
      "Enter your name.Dhruv\n",
      "Enter your weight in pounds:154\n",
      "Enter your height in inches:73\n",
      "20.315631450553575\n",
      "Dhruv , you are normal weight.\n"
     ]
    }
   ],
   "source": [
    "Name = input(\"Enter your name.\")\n",
    "\n",
    "Weight = int(input(\"Enter your weight in pounds:\"))\n",
    "\n",
    "Height = int(input(\"Enter your height in inches:\"))\n",
    "\n",
    "BMI = (Weight * 703) / (Height * Height)\n",
    "\n",
    "print(BMI)\n",
    "\n",
    "if BMI > 0:\n",
    "    if(BMI < 18.5):\n",
    "        print(Name +' , you are underweight.')\n",
    "    elif(BMI <= 24.9):\n",
    "        print(Name +' , you are normal weight.')\n",
    "    elif(BMI <= 29.9):\n",
    "        print(Name +' , you are overweight.')\n",
    "    elif(BMI <= 34.9):\n",
    "        print(Name +' , you are obese.')       \n",
    "    elif(BMI <= 39.9):\n",
    "        print(Name +' , you are severely obese.')\n",
    "    elif(BMI >= 40):\n",
    "        print(Name +' , you are morbidly obese.')\n",
    "    else:\n",
    "        print('Enter Valid Inputs')"
   ]
  },
  {
   "cell_type": "code",
   "execution_count": 2,
   "id": "d7d1b1b8",
   "metadata": {},
   "outputs": [
    {
     "name": "stdout",
     "output_type": "stream",
     "text": [
      "Dhruv , you are normal weight.\n"
     ]
    }
   ],
   "source": [
    "if BMI > 0:\n",
    "    if(BMI < 18.5):\n",
    "        print(Name +' , you are underweight.')\n",
    "    elif(BMI <= 24.9):\n",
    "        print(Name +' , you are normal weight.')\n",
    "    elif(BMI <= 29.9):\n",
    "        print(Name +' , you are overweight.')\n",
    "    elif(BMI <= 34.9):\n",
    "        print(Name +' , you are obese.')       \n",
    "    elif(BMI <= 39.9):\n",
    "        print(Name +' , you are severely obese.')\n",
    "    elif(BMI >= 40):\n",
    "        print(Name +' , you are morbidly obese.')\n",
    "    else:\n",
    "        print('Enter Valid Inputs')"
   ]
  },
  {
   "cell_type": "code",
   "execution_count": null,
   "id": "027e14c9",
   "metadata": {},
   "outputs": [],
   "source": []
  }
 ],
 "metadata": {
  "kernelspec": {
   "display_name": "Python 3 (ipykernel)",
   "language": "python",
   "name": "python3"
  },
  "language_info": {
   "codemirror_mode": {
    "name": "ipython",
    "version": 3
   },
   "file_extension": ".py",
   "mimetype": "text/x-python",
   "name": "python",
   "nbconvert_exporter": "python",
   "pygments_lexer": "ipython3",
   "version": "3.11.4"
  }
 },
 "nbformat": 4,
 "nbformat_minor": 5
}
