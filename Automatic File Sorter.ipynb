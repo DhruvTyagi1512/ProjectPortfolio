{
 "cells": [
  {
   "cell_type": "markdown",
   "id": "f7fcbe4a",
   "metadata": {},
   "source": [
    "# Automatic File Sorter"
   ]
  },
  {
   "cell_type": "code",
   "execution_count": 1,
   "id": "3f1e4d42",
   "metadata": {},
   "outputs": [],
   "source": [
    "import os,shutil"
   ]
  },
  {
   "cell_type": "code",
   "execution_count": 2,
   "id": "24fb3d4f",
   "metadata": {},
   "outputs": [],
   "source": [
    "path = r'/Users/Dhruv/Desktop/AUTOMATIC FILE SORTER copy/'"
   ]
  },
  {
   "cell_type": "code",
   "execution_count": 3,
   "id": "e9003336",
   "metadata": {},
   "outputs": [],
   "source": [
    "file_name = os.listdir(path)"
   ]
  },
  {
   "cell_type": "code",
   "execution_count": 7,
   "id": "ded4fa89",
   "metadata": {},
   "outputs": [],
   "source": [
    "folder_name = ['csv files','image files', 'word files']\n",
    "\n",
    "for loop in range(0,3):\n",
    "      if not os.path.exists(path + folder_name[loop]):\n",
    "             #print((path + folder_name[loop]))\n",
    "            os.makedirs((path + folder_name[loop]))  \n",
    "for file in file_name:\n",
    "    if \".csv\" in file and not os.path.exists(path + \"csv files/\" + file):\n",
    "        shutil.move (path + file, path + \"csv files/\" + file)\n",
    "    elif \".png\" in file and not os.path.exists(path + \"image files/\" + file):\n",
    "        shutil.move (path + file, path + \"image files/\" + file)\n",
    "    elif \".docx\" in file and not os.path.exists(path + \"word files/\" + file):\n",
    "        shutil.move (path + file, path + \"word files/\" + file)"
   ]
  },
  {
   "cell_type": "code",
   "execution_count": null,
   "id": "24c0b743",
   "metadata": {},
   "outputs": [],
   "source": []
  },
  {
   "cell_type": "code",
   "execution_count": null,
   "id": "a53dc2d1",
   "metadata": {},
   "outputs": [],
   "source": []
  }
 ],
 "metadata": {
  "kernelspec": {
   "display_name": "Python 3 (ipykernel)",
   "language": "python",
   "name": "python3"
  },
  "language_info": {
   "codemirror_mode": {
    "name": "ipython",
    "version": 3
   },
   "file_extension": ".py",
   "mimetype": "text/x-python",
   "name": "python",
   "nbconvert_exporter": "python",
   "pygments_lexer": "ipython3",
   "version": "3.11.4"
  }
 },
 "nbformat": 4,
 "nbformat_minor": 5
}
